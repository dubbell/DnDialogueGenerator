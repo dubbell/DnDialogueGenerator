{
 "cells": [
  {
   "cell_type": "code",
   "execution_count": 2,
   "metadata": {},
   "outputs": [
    {
     "name": "stderr",
     "output_type": "stream",
     "text": [
      "/home/linulun/anaconda3/lib/python3.11/site-packages/transformers/utils/generic.py:260: FutureWarning: `torch.utils._pytree._register_pytree_node` is deprecated. Please use `torch.utils._pytree.register_pytree_node` instead.\n",
      "  torch.utils._pytree._register_pytree_node(\n"
     ]
    }
   ],
   "source": [
    "import torch\n",
    "from transformers import GPT2Tokenizer, GPT2LMHeadModel\n",
    "from data_collection import training_set\n",
    "from torch.utils.data import DataLoader\n",
    "import tqdm\n",
    "import matplotlib.pyplot as plt\n",
    "import numpy as np\n",
    "import os.path\n",
    "import pickle"
   ]
  },
  {
   "cell_type": "code",
   "execution_count": 3,
   "metadata": {},
   "outputs": [],
   "source": [
    "tokenizer = GPT2Tokenizer.from_pretrained(\"gpt2\")\n",
    "gpt2_model = GPT2LMHeadModel.from_pretrained(\"gpt2\")"
   ]
  },
  {
   "cell_type": "code",
   "execution_count": 4,
   "metadata": {},
   "outputs": [],
   "source": [
    "train_dataset = pickle.load(open(\"dataset.p\", \"rb\")) if os.path.isfile(\"dataset.p\") else training_set([\"romantic\", \"friendly\", \"fight\"], tokenizer)\n",
    "train_loader = DataLoader(train_dataset, batch_size=2, shuffle=True)"
   ]
  },
  {
   "cell_type": "code",
   "execution_count": 9,
   "metadata": {},
   "outputs": [],
   "source": [
    "for param in gpt2_model.parameters():\n",
    "    param.requires_grad = False\n",
    "for param in gpt2_model.lm_head.parameters():\n",
    "    param.requires_grad = True"
   ]
  },
  {
   "cell_type": "code",
   "execution_count": 10,
   "metadata": {},
   "outputs": [
    {
     "name": "stderr",
     "output_type": "stream",
     "text": [
      "  0%|          | 0/88340 [00:00<?, ?it/s]"
     ]
    },
    {
     "name": "stdout",
     "output_type": "stream",
     "text": [
      "a\n",
      "a\n",
      "<NllLossBackward0 object at 0x779a2e447b80>\n"
     ]
    },
    {
     "ename": "",
     "evalue": "",
     "output_type": "error",
     "traceback": [
      "\u001b[1;31mThe Kernel crashed while executing code in the current cell or a previous cell. \n",
      "\u001b[1;31mPlease review the code in the cell(s) to identify a possible cause of the failure. \n",
      "\u001b[1;31mClick <a href='https://aka.ms/vscodeJupyterKernelCrash'>here</a> for more info. \n",
      "\u001b[1;31mView Jupyter <a href='command:jupyter.viewOutput'>log</a> for further details."
     ]
    }
   ],
   "source": [
    "optimizer = torch.optim.Adam(gpt2_model.parameters(), lr=0.0001)\n",
    "\n",
    "epochs = 10\n",
    "epoch_losses = []\n",
    "\n",
    "pb = tqdm.tqdm(total=epochs * len(train_loader))\n",
    "\n",
    "for _ in range(epochs):\n",
    "    epoch_loss = 0\n",
    "    for sequence in train_loader:\n",
    "        optimizer.zero_grad()   \n",
    "        \n",
    "        print(\"a\")\n",
    "        loss, logits = gpt2_model(sequence, labels=sequence)[:2]\n",
    "        print(\"a\")\n",
    "        print(loss.grad_fn)\n",
    "        loss.backward()\n",
    "        print(\"a\")\n",
    "        optimizer.step()\n",
    "        print(\"a\")\n",
    "\n",
    "        epoch_loss += loss.item()\n",
    "        pb.update(1)\n",
    "    \n",
    "    epoch_losses.append(epoch_loss)\n",
    "\n",
    "\n",
    "plt.plot(np.arange(epochs), epoch_losses)\n",
    "plt.show()"
   ]
  }
 ],
 "metadata": {
  "kernelspec": {
   "display_name": "base",
   "language": "python",
   "name": "python3"
  },
  "language_info": {
   "codemirror_mode": {
    "name": "ipython",
    "version": 3
   },
   "file_extension": ".py",
   "mimetype": "text/x-python",
   "name": "python",
   "nbconvert_exporter": "python",
   "pygments_lexer": "ipython3",
   "version": "3.11.5"
  }
 },
 "nbformat": 4,
 "nbformat_minor": 2
}
